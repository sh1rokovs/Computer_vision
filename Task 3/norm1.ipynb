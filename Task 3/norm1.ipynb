{
 "cells": [
  {
   "cell_type": "code",
   "execution_count": 30,
   "metadata": {},
   "outputs": [],
   "source": [
    "import cv2\n",
    "import numpy as np\n",
    "import matplotlib.pyplot as plt\n",
    "from abc import ABC, abstractmethod"
   ]
  },
  {
   "cell_type": "code",
   "execution_count": 31,
   "metadata": {},
   "outputs": [],
   "source": [
    "def shape_calculate(input_matrix_shape, out_channels, kernel_size, stride, padding):\n",
    "    batch_size, channels_count, input_height, input_width = input_matrix_shape\n",
    "    output_height = (input_height + 2 * padding - (kernel_size - 1) - 1) // stride + 1\n",
    "    output_width = (input_width + 2 * padding - (kernel_size - 1) - 1) // stride + 1\n",
    "\n",
    "    return batch_size, out_channels, output_height, output_width"
   ]
  },
  {
   "cell_type": "code",
   "execution_count": 32,
   "metadata": {},
   "outputs": [],
   "source": [
    "class ABCConv2d(ABC):\n",
    "    def __init__(self, in_channels, out_channels, kernel_size, stride):\n",
    "        self.in_channels = in_channels\n",
    "        self.out_channels = out_channels\n",
    "        self.kernel_size = kernel_size\n",
    "        self.stride = stride\n",
    "\n",
    "    def set_kernel(self, kernel):\n",
    "        self.kernel = kernel\n",
    "\n",
    "    @abstractmethod\n",
    "    def __call__(self, input_tensor):\n",
    "        pass"
   ]
  },
  {
   "cell_type": "code",
   "execution_count": 33,
   "metadata": {},
   "outputs": [],
   "source": [
    "class Conv2dMatrix(ABCConv2d):\n",
    "    def __call__(self, input_tensor):\n",
    "        image_size, out_channels, output_height, output_width = shape_calculate(\n",
    "            input_tensor.shape,\n",
    "            self.out_channels,\n",
    "            self.kernel_size,\n",
    "            self.stride,\n",
    "            padding=0)\n",
    "\n",
    "        output_tensor = np.zeros((image_size, out_channels, output_height, output_width))\n",
    "\n",
    "        for num_image, image in enumerate(input_tensor):\n",
    "\n",
    "            for num_filter, filter_ in enumerate(self.kernel):\n",
    "\n",
    "                for i in range(output_height):\n",
    "                    for j in range(output_width):\n",
    "                        current_row = self.stride * i\n",
    "                        current_column = self.stride * j\n",
    "                        current_slice = image[:, current_row:current_row + self.kernel_size,\n",
    "                                        current_column:current_column + self.kernel_size]\n",
    "\n",
    "                        res = float((current_slice * filter_).sum())\n",
    "\n",
    "                        output_tensor[num_image, num_filter, i, j] = res\n",
    "\n",
    "        return output_tensor"
   ]
  },
  {
   "cell_type": "code",
   "execution_count": 34,
   "metadata": {},
   "outputs": [],
   "source": [
    "class MaxPool2D(ABCConv2d):\n",
    "    def __call__(self, input_tensor):\n",
    "        image_size, out_channels, output_height, output_width = shape_calculate(\n",
    "            input_tensor.shape,\n",
    "            self.out_channels,\n",
    "            self.kernel_size,\n",
    "            self.stride,\n",
    "            padding=0)\n",
    "\n",
    "        mat_out = np.zeros((image_size, out_channels, output_height, output_width))\n",
    "\n",
    "        for num_image, image in enumerate(input_tensor):\n",
    "            for num_chnl in range(image.shape[0]):\n",
    "\n",
    "                for i in range(output_height):\n",
    "                    for j in range(output_width):\n",
    "                        current_row = self.stride * i\n",
    "                        current_column = self.stride * j\n",
    "                        current_slice = image[num_chnl, current_row:current_row + self.kernel_size,\n",
    "                                        current_column:current_column + self.kernel_size]\n",
    "\n",
    "                        res = float(current_slice.max())\n",
    "                        mat_out[num_image, num_chnl, i, j] = res\n",
    "        return mat_out"
   ]
  },
  {
   "cell_type": "code",
   "execution_count": 35,
   "metadata": {},
   "outputs": [],
   "source": [
    "class LayerNorm:\n",
    "    def __call__(self, input_tensor, gamma=1, betta=0, eps=1e-3):\n",
    "        result = np.zeros(input_tensor.shape)\n",
    "        for b, batch in enumerate(input_tensor):\n",
    "            for c, image in enumerate(batch):\n",
    "                Mu = np.mean(image)\n",
    "                sigma = np.std(image)\n",
    "                result[b, c, :, :] = ((image - Mu) / (np.sqrt(sigma ** 2 + eps))) * gamma + betta\n",
    "        return result"
   ]
  },
  {
   "cell_type": "code",
   "execution_count": 36,
   "metadata": {},
   "outputs": [],
   "source": [
    "class Relu:\n",
    "    def __call__(self, input_tensor):\n",
    "        return np.where(input_tensor > 0, input_tensor, 0)"
   ]
  },
  {
   "cell_type": "code",
   "execution_count": 37,
   "metadata": {},
   "outputs": [],
   "source": [
    "class Model:\n",
    "    def __init__(self, stride=1):\n",
    "        kernel = np.random.randint(-10, 10, 5 * 3 * 3).reshape(5, 3, 3)\n",
    "        in_channels = kernel.shape[1]\n",
    "        out_channels = kernel.shape[0]\n",
    "        kernel_size = kernel.shape[2]\n",
    "\n",
    "        self.conv2d = Conv2dMatrix(in_channels, out_channels, kernel_size, stride)\n",
    "        self.conv2d.set_kernel(kernel)\n",
    "        self.LN = LayerNorm()\n",
    "        self.relu = Relu()\n",
    "        self.max_pool = MaxPool2D(out_channels, out_channels, 2, 2)\n",
    "\n",
    "    def model_forward(self, x):\n",
    "        x = self.conv2d(x)\n",
    "        x = self.LN(x)\n",
    "        x = self.relu(x)\n",
    "        x = self.max_pool(x)\n",
    "        e_x = np.exp(x - np.max(x, axis=1))\n",
    "        return e_x / np.sum(e_x, axis=1)"
   ]
  },
  {
   "cell_type": "code",
   "execution_count": 38,
   "metadata": {},
   "outputs": [
    {
     "name": "stdout",
     "output_type": "stream",
     "text": [
      "Model shape: (1, 5, 15, 15)\n",
      "Out: [[[[0.31458357 0.23933641 0.31251125 ... 0.26679685 0.10256506\n",
      "    0.43685782]\n",
      "   [0.15202204 0.07597568 0.13753242 ... 0.23922252 0.16341379\n",
      "    0.60132193]\n",
      "   [0.08973263 0.2617235  0.11300219 ... 0.27382267 0.16783126\n",
      "    0.10885295]\n",
      "   ...\n",
      "   [0.14183562 0.27543809 0.12588849 ... 0.14048598 0.21817796\n",
      "    0.22384586]\n",
      "   [0.17359296 0.17698745 0.22663199 ... 0.18921312 0.22762463\n",
      "    0.20804418]\n",
      "   [0.21086758 0.29158118 0.18102773 ... 0.1400576  0.17091706\n",
      "    0.15023519]]\n",
      "\n",
      "  [[0.42421457 0.31649551 0.19015968 ... 0.17565942 0.36288548\n",
      "    0.31510792]\n",
      "   [0.61704578 0.7421839  0.63967331 ... 0.25065289 0.35719068\n",
      "    0.17162178]\n",
      "   [0.59040259 0.3455493  0.58111637 ... 0.0918384  0.19751112\n",
      "    0.60520249]\n",
      "   ...\n",
      "   [0.30375476 0.18173565 0.08160848 ... 0.10999979 0.02803713\n",
      "    0.1059785 ]\n",
      "   [0.11436322 0.12747869 0.28062977 ... 0.06709527 0.35963139\n",
      "    0.17983659]\n",
      "   [0.40508953 0.33057701 0.06642045 ... 0.10410509 0.04644795\n",
      "    0.05591694]]\n",
      "\n",
      "  [[0.10095441 0.15104782 0.13548312 ... 0.3220862  0.2658804\n",
      "    0.12921761]\n",
      "   [0.13918903 0.08855856 0.10962869 ... 0.21002294 0.2062689\n",
      "    0.1081689 ]\n",
      "   [0.14118131 0.17316755 0.12643529 ... 0.25906865 0.34013492\n",
      "    0.09531485]\n",
      "   ...\n",
      "   [0.25023032 0.20565568 0.42207125 ... 0.53949895 0.22762625\n",
      "    0.13402817]\n",
      "   [0.22643253 0.18289191 0.19730989 ... 0.30278398 0.08604223\n",
      "    0.19988387]\n",
      "   [0.08901648 0.07893225 0.42384671 ... 0.41719087 0.10184944\n",
      "    0.42792877]]\n",
      "\n",
      "  [[0.06884417 0.10716402 0.13548312 ... 0.07838821 0.11997864\n",
      "    0.06024237]\n",
      "   [0.04587158 0.04664093 0.06352268 ... 0.16042018 0.1684582\n",
      "    0.03915261]\n",
      "   [0.09398629 0.10096166 0.10552466 ... 0.16415228 0.10486074\n",
      "    0.09531485]\n",
      "   ...\n",
      "   [0.16918276 0.27294147 0.22196692 ... 0.11581641 0.40758705\n",
      "    0.12499826]\n",
      "   [0.15267694 0.21383253 0.12391822 ... 0.14718425 0.2025188\n",
      "    0.3056393 ]\n",
      "   [0.04954348 0.13852    0.22649499 ... 0.20316621 0.44243938\n",
      "    0.20053272]]\n",
      "\n",
      "  [[0.09140328 0.18595624 0.22636283 ... 0.15706932 0.14869041\n",
      "    0.05857429]\n",
      "   [0.04587158 0.04664093 0.0496429  ... 0.13968147 0.10466843\n",
      "    0.07973478]\n",
      "   [0.08469717 0.11859798 0.07392149 ... 0.21111799 0.18966195\n",
      "    0.09531485]\n",
      "   ...\n",
      "   [0.13499654 0.0642291  0.14846487 ... 0.09419888 0.11857161\n",
      "    0.41114921]\n",
      "   [0.33293434 0.29880943 0.17151014 ... 0.29372338 0.12418295\n",
      "    0.10659605]\n",
      "   [0.24548294 0.16038956 0.10221012 ... 0.13548023 0.23834616\n",
      "    0.1653864 ]]]]\n"
     ]
    }
   ],
   "source": [
    "input_img = cv2.imread(\"kitty.jpg\")\n",
    "input_img = cv2.resize(input_img, (32, 32)).reshape(1, 3, 32, 32)  # BxCxWxH\n",
    "Net = Model(stride=1)\n",
    "out = Net.model_forward(input_img)\n",
    "print(f'Model shape: {out.shape}')\n",
    "print(f'Out: {out}')"
   ]
  }
 ],
 "metadata": {
  "kernelspec": {
   "display_name": "Python 3.10.7 64-bit",
   "language": "python",
   "name": "python3"
  },
  "language_info": {
   "codemirror_mode": {
    "name": "ipython",
    "version": 3
   },
   "file_extension": ".py",
   "mimetype": "text/x-python",
   "name": "python",
   "nbconvert_exporter": "python",
   "pygments_lexer": "ipython3",
   "version": "3.10.7"
  },
  "orig_nbformat": 4,
  "vscode": {
   "interpreter": {
    "hash": "db6aa72fdc1589c2df27b2c2bedb9bd929908353dab6c2778e91a96b96e474f0"
   }
  }
 },
 "nbformat": 4,
 "nbformat_minor": 2
}
